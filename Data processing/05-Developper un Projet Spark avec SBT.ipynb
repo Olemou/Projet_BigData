{
 "cells": [
  {
   "cell_type": "markdown",
   "metadata": {},
   "source": [
    "# Projet Spark End-to-End avec SBT et IntelliJ"
   ]
  },
  {
   "cell_type": "markdown",
   "metadata": {},
   "source": [
    "## Preparation de l'env de dev"
   ]
  },
  {
   "cell_type": "markdown",
   "metadata": {},
   "source": [
    "### Java et JDK "
   ]
  },
  {
   "cell_type": "markdown",
   "metadata": {},
   "source": [
    "* [Telecharger et installer JDK 1.8](https://adoptopenjdk.net/?variant=openjdk8&jvmVariant=hotspot)\n",
    "* Verifier si JDK est correctement installe:\n",
    "    - via la commande `java -version` dans windows cmd"
   ]
  },
  {
   "cell_type": "markdown",
   "metadata": {},
   "source": [
    "### Scala avec IntelliJ"
   ]
  },
  {
   "cell_type": "markdown",
   "metadata": {},
   "source": [
    "#### IntelliJ"
   ]
  },
  {
   "cell_type": "markdown",
   "metadata": {},
   "source": [
    "[Telecharger et installer IntelliJ Community](https://www.jetbrains.com/idea/download/download-thanks.html?platform=windows&code=IIC)"
   ]
  },
  {
   "cell_type": "markdown",
   "metadata": {},
   "source": [
    "#### IntelliJ Scala Plugin"
   ]
  },
  {
   "cell_type": "markdown",
   "metadata": {},
   "source": [
    "* Ouvrez IntelliJ IDEA\n",
    "* Allez dans le menu Fichier --> Plugins --> [ Ou appuyez directement sur Ctrl+Alt+S ]\n",
    "* Cliquez sur le bouton \"Parcourir les dépôts\" et entrez \"Scala\"\n",
    "* Sélectionnez le plugin Scala pour l'installer."
   ]
  },
  {
   "cell_type": "markdown",
   "metadata": {},
   "source": [
    "### SBT"
   ]
  },
  {
   "cell_type": "markdown",
   "metadata": {},
   "source": [
    "SBT est un outil de build interactif qui est utilisé pour de tester et packager vos projets sous forme de fichiers JAR.\n",
    "\n",
    "SBT vous permet de créer un projet dans un éditeur de texte et de le packager, afin qu'il puisse être exécuté dans un cluster."
   ]
  },
  {
   "cell_type": "markdown",
   "metadata": {},
   "source": [
    "#### Installer SBT"
   ]
  },
  {
   "cell_type": "markdown",
   "metadata": {},
   "source": [
    "[Telecharger et installer SBT](https://github.com/sbt/sbt/releases/download/v1.4.5/sbt-1.4.5.msi)"
   ]
  },
  {
   "cell_type": "markdown",
   "metadata": {},
   "source": [
    "#### Exécuter des commandes SBT"
   ]
  },
  {
   "cell_type": "markdown",
   "metadata": {},
   "source": [
    "Les commandes SBT peuvent être exécutées depuis la ligne de commande ou depuis le shell de SBT."
   ]
  },
  {
   "cell_type": "markdown",
   "metadata": {},
   "source": [
    "Par exemple, voici comment exécuter la suite de tests à partir du terminal : `sbt test`"
   ]
  },
  {
   "cell_type": "markdown",
   "metadata": {},
   "source": [
    "#### build.sbt"
   ]
  },
  {
   "cell_type": "markdown",
   "metadata": {},
   "source": [
    "La définition du build SBT est spécifiée dans le fichier `build.sbt`.\n",
    "\n",
    "C'est là que vous ajouterez du code pour spécifier vos dépendances, la version Scala, comment construire vos fichiers JAR, comment gérer la mémoire, etc.\n",
    "\n",
    "Une des seules choses qui n'est pas spécifiée dans le fichier build.sbt est la version SBT elle-même. La version SBT est spécifiée dans le fichier `project/build.properties`, par exemple :\n",
    "\n",
    "`sbt.version=1.4.0`"
   ]
  },
  {
   "cell_type": "markdown",
   "metadata": {},
   "source": [
    "#### libraryDependencies"
   ]
  },
  {
   "cell_type": "markdown",
   "metadata": {},
   "source": [
    "Vous pouvez spécifier les `libraryDependencies` dans votre fichier `build.sbt` pour récupérer les bibliothèques depuis Maven ou JitPack.\n",
    "\n",
    "Voici comment ajouter Spark SQL et Spark ML à un projet :"
   ]
  },
  {
   "cell_type": "markdown",
   "metadata": {},
   "source": [
    "`libraryDependencies += \"org.apache.spark\" %% \"spark-sql\" % \"2.4.5\" % \"provided\"`\n",
    "`libraryDependencies += \"org.apache.spark\" %% \"spark-mllib\" % \"2.4.5\" % \"provided\"`"
   ]
  },
  {
   "cell_type": "markdown",
   "metadata": {},
   "source": [
    "SBT fournit une syntaxe de raccourci si nous voulons garder propre notre fichier `build.sbt`."
   ]
  },
  {
   "cell_type": "markdown",
   "metadata": {},
   "source": [
    "`libraryDependencies ++= Seq(\n",
    "  \"org.apache.spark\" %% \"spark-sql\" % \"2.4.0\" % \"provided\",\n",
    "  \"org.apache.spark\" %% \"spark-mllib\" % \"2.4.0\" % \"provided\"\n",
    ")`"
   ]
  },
  {
   "cell_type": "markdown",
   "metadata": {},
   "source": [
    "Les dépendances \"`provided`\" sont déjà incluses dans l'environnement dans lequel nous executons notre code."
   ]
  },
  {
   "cell_type": "markdown",
   "metadata": {},
   "source": [
    "Voici un exemple de certaines dépendances de test qui ne sont utilisées que lorsque nous exécutons notre suite de tests :"
   ]
  },
  {
   "cell_type": "markdown",
   "metadata": {},
   "source": [
    "`libraryDependencies += \"com.lihaoyi\" %% \"utest\" % \"0.6.3\" % \"test\"\n",
    "libraryDependencies += \"com.holdenkarau\" %% \"spark-testing-base\" % \"2.4.5_1.0.0\" % \"test\"`"
   ]
  },
  {
   "cell_type": "markdown",
   "metadata": {},
   "source": [
    "#### sbt doc"
   ]
  },
  {
   "cell_type": "markdown",
   "metadata": {},
   "source": [
    "La commande `sbt doc` génère une documentation HTML pour votre projet.\n",
    "\n",
    "Vous pouvez ouvrir la documentation sur votre machine locale depuis `target/scala2.12/api/index.html` après qu'elle ait été générée."
   ]
  },
  {
   "cell_type": "markdown",
   "metadata": {},
   "source": [
    "Vous devez marquer avec diligence les fonctions et les objets comme privés s'ils ne font pas partie de l'API. `sbt doc` ne générera pas de documentation pour les membres privés."
   ]
  },
  {
   "cell_type": "markdown",
   "metadata": {},
   "source": [
    "#### sbt console"
   ]
  },
  {
   "cell_type": "markdown",
   "metadata": {},
   "source": [
    "La commande `sbt console` lance l'interpréteur Scala avec un accès facile à tous vos fichiers de projet."
   ]
  },
  {
   "cell_type": "markdown",
   "metadata": {},
   "source": [
    "La console sbt est parfois utile pour jouer avec votre code."
   ]
  },
  {
   "cell_type": "markdown",
   "metadata": {},
   "source": [
    "#### sbt package / sbt assembly"
   ]
  },
  {
   "cell_type": "markdown",
   "metadata": {},
   "source": [
    "`sbt package` construit un fichier JAR mince (ne comprend que les fichiers du projet).\n",
    "\n",
    "`sbt assembly` construit un gros fichier JAR (qui comprend tous les fichiers du projet et les dépendances)."
   ]
  },
  {
   "cell_type": "markdown",
   "metadata": {},
   "source": [
    "#### sbt clean"
   ]
  },
  {
   "cell_type": "markdown",
   "metadata": {},
   "source": [
    "La commande `sbt clean` supprime tous les fichiers générés dans le répertoire `target/`."
   ]
  },
  {
   "cell_type": "markdown",
   "metadata": {},
   "source": [
    "Cette commande supprimera la documentation générée par sbt doc et supprimera les fichiers JAR générés par `sbt package` / `sbt assembly`."
   ]
  },
  {
   "cell_type": "markdown",
   "metadata": {},
   "source": [
    "Il est bon de lancer `sbt clean` fréquemment, afin de ne pas accumuler beaucoup d'encombrement dans le répertoire `target/`."
   ]
  },
  {
   "cell_type": "markdown",
   "metadata": {},
   "source": [
    "### How to build the package\n",
    "\n",
    "- sbt clean package\n",
    "- mkdir jars\n",
    "- cp target/scala-2.12/sparkretails_2.12-0.1.jar jars/\n",
    "\n",
    "### How to run the Example\n",
    "\n",
    "#### Standalone job submission\n",
    "* spark-submit --class sn.uvs.airbnb.ml.Main sparkretails_2.12-0.1.jar\n",
    "\n",
    "####  job submission in yarn cluster\n",
    "* spark-submit --class sn.uvs.airbnb.ml.Main \\\n",
    "    --master yarn \\\n",
    "    --deploy-mode cluster \\\n",
    "    --driver-memory 4g \\\n",
    "    --executor-memory 2g \\\n",
    "    --executor-cores 1 \\\n",
    "    --queue thequeue \\\n",
    "    sparkretails_2.12-0.1.jar\n"
   ]
  },
  {
   "cell_type": "markdown",
   "metadata": {},
   "source": [
    "## Live Demo"
   ]
  },
  {
   "cell_type": "code",
   "execution_count": null,
   "metadata": {},
   "outputs": [],
   "source": []
  }
 ],
 "metadata": {
  "kernelspec": {
   "display_name": "Python 3",
   "language": "python",
   "name": "python3"
  },
  "language_info": {
   "codemirror_mode": {
    "name": "ipython",
    "version": 3
   },
   "file_extension": ".py",
   "mimetype": "text/x-python",
   "name": "python",
   "nbconvert_exporter": "python",
   "pygments_lexer": "ipython3",
   "version": "3.8.10"
  }
 },
 "nbformat": 4,
 "nbformat_minor": 4
}
